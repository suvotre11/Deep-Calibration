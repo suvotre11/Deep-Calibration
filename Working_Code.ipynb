{
 "cells": [
  {
   "cell_type": "markdown",
   "id": "f93bd049-f11e-40bf-be45-46e4eea3167c",
   "metadata": {},
   "source": [
    "# Deep Calibration: Machine Learning in Financial Modeling"
   ]
  },
  {
   "cell_type": "code",
   "execution_count": 1,
   "id": "4ec113d9-7da8-4c9c-b520-470afb74cba2",
   "metadata": {},
   "outputs": [
    {
     "name": "stdout",
     "output_type": "stream",
     "text": [
      "WARNING:tensorflow:From C:\\Users\\Biju-\\AppData\\Local\\Programs\\Python\\Python311\\Lib\\site-packages\\keras\\src\\losses.py:2976: The name tf.losses.sparse_softmax_cross_entropy is deprecated. Please use tf.compat.v1.losses.sparse_softmax_cross_entropy instead.\n",
      "\n"
     ]
    }
   ],
   "source": [
    "#importing important libraries to faciliate the machine learning\n",
    "import numpy as np\n",
    "from keras.layers import Input, Dense\n",
    "from keras.models import Model\n",
    "import matplotlib.pyplot as plt"
   ]
  },
  {
   "cell_type": "markdown",
   "id": "b5e6c584-45ee-4046-bf2b-0b91b3a44386",
   "metadata": {},
   "source": [
    "#### 0. Initializing Values"
   ]
  },
  {
   "cell_type": "code",
   "execution_count": 2,
   "id": "c3f8f057-dbe2-40ec-9a6d-fc7298d7c9a0",
   "metadata": {},
   "outputs": [],
   "source": [
    "## Financial Model Parameters\n",
    "N = 20 # time disrectization\n",
    "S0 = np.exp(5) # initial value of the asset in multiples of np.exp(5)\n",
    "strike_prices = [0,120,150,180] # strike for the call option\n",
    "T = 2.0 # maturity\n",
    "activator = \"tanh\" #Non-linear function for the machine learning layers\n",
    "R = 1000 # Number of path used in the MC simulation\n",
    "Ktrain = 20000 # Size of training data\n",
    "Ktest = 5000 # Size of test data\n",
    "epochs = 5 #Number of Iterations\n",
    "r_free = 0 #Risk free rate\n",
    "assumption = \"Heston\" # Either \"Heston\" or \"Black-S\""
   ]
  },
  {
   "cell_type": "markdown",
   "id": "f9b0c03a-cc52-45c4-9d22-529df7ba88d7",
   "metadata": {},
   "source": [
    "#### 1. Payoff and Path Generation Functions"
   ]
  },
  {
   "cell_type": "code",
   "execution_count": 3,
   "id": "b92518d7-5300-436a-afdf-515db612f063",
   "metadata": {},
   "outputs": [],
   "source": [
    "# payoff function to to calculate payoffs for asset prices\n",
    "Nopt = 4  ## three options\n",
    "def f(S):\n",
    "     y = []\n",
    "     for K in strike_prices:\n",
    "         payoff = np.maximum(S-K,0) #payoff calculation for european call options\n",
    "         #payoff = np.maximum(K-S,0) #payoff calculations for european put options\n",
    "         y = y + [payoff]\n",
    "     return(y)"
   ]
  },
  {
   "cell_type": "code",
   "execution_count": 4,
   "id": "91a97c30-8ef0-4e80-a277-ecbae92c5355",
   "metadata": {},
   "outputs": [],
   "source": [
    "# Path generation function, using the approximated SDE of Black Scholes to simulate asset paths\n",
    "def path(S0,sigma,N,T,R=1):\n",
    "     dt = T / N\n",
    "     X = np.zeros((N+1,R)) + np.log(S0) #Log transformation to save space\n",
    "     for j in range(N):\n",
    "         dZ = np.random.normal(0,1,R)\n",
    "         s = sigma\n",
    "         increment = s * dZ*np.sqrt(dt)\n",
    "         X[j+1,:] = X[j,:] + increment\n",
    "     return np.exp(X) #Reversion of log transformation, helps keeping positive values only"
   ]
  },
  {
   "cell_type": "code",
   "execution_count": 5,
   "id": "32f34183-4a1d-499e-8178-0960f2b399b6",
   "metadata": {},
   "outputs": [],
   "source": [
    "# Path generation function, using the approximated SDE of Heston Model to simulate asset paths\n",
    "def path2(S0, v0, kappa, theta, sigma, rho, N, T, R=1):\n",
    "    dt = T / N\n",
    "    S = np.zeros((N + 1, R))+np.log(S0) #Log transformation to save space\n",
    "    v = np.zeros((N + 1, R))+v0\n",
    "\n",
    "    for i in range(1, N + 1):\n",
    "        dZ1 = np.random.normal(0, 1,R)\n",
    "        dZ2 = rho * dZ1 + np.sqrt(np.maximum(0,1 - rho**2)) * np.random.normal(0, 1)\n",
    "\n",
    "        S[i, :] = S[i - 1, :] + np.sqrt(np.maximum(0,v[i - 1, :]* dt))  * S[i - 1, :] * dZ1 \n",
    "        v[i, :] = np.maximum(0, v[i - 1, :] + kappa * (theta - v[i - 1, :]) * dt + sigma * np.sqrt(np.maximum(0,v[i - 1, :] * dt)) * dZ2)\n",
    "\n",
    "    return np.exp(S) #Reversion of log transformation, helps keeping positive values only"
   ]
  },
  {
   "cell_type": "markdown",
   "id": "acc23341-ce27-42bb-8d7b-c0db0e6526fd",
   "metadata": {},
   "source": [
    "#### Explanation Behind Methodology\n",
    "* The principle idea is that we can generate data from a model via a Euler scheme\n",
    "* Simulations are used to generate some option prices\n",
    "* This speaks of a function (Model) -> (prices)\n",
    "* It is this function we like to invert!\n",
    "* (prices) -> (Model)\n",
    "* Instead of constructing the inverse we will try to find it via machine learning\n",
    "* One data point consists of one sample path as input and a model parameter as output "
   ]
  },
  {
   "cell_type": "markdown",
   "id": "daef2ea7-0400-4da4-be8f-38ada3b5d159",
   "metadata": {},
   "source": [
    "#### 2. Train Data Generation"
   ]
  },
  {
   "cell_type": "code",
   "execution_count": 6,
   "id": "d4084682-81dd-41c1-8aee-2545c5b93458",
   "metadata": {},
   "outputs": [
    {
     "name": "stdout",
     "output_type": "stream",
     "text": [
      "\n",
      "Creating random parameters and the corresponding option prices via Monte Carlo\n"
     ]
    },
    {
     "name": "stderr",
     "output_type": "stream",
     "text": [
      "C:\\Users\\Biju-\\AppData\\Local\\Temp\\ipykernel_20284\\4070045082.py:26: DeprecationWarning: Conversion of an array with ndim > 0 to a scalar is deprecated, and will error in future. Ensure you extract a single element from your array before performing this operation. (Deprecated NumPy 1.25.)\n",
      "  P[i] = sigma\n"
     ]
    },
    {
     "name": "stdout",
     "output_type": "stream",
     "text": [
      "Done.% ... . \n",
      "\n"
     ]
    }
   ],
   "source": [
    "# Creating Ktrain sample paths from the model\n",
    "print(\"\\nCreating random parameters and the corresponding option prices via Monte Carlo\")\n",
    "S = np.zeros( (Ktrain,R) ) #Creating Empty Containers for the generated Asset Prices\n",
    "P = np.zeros( (Ktrain,) ) #Creating Empty Containers for the generated Variances\n",
    "F = np.zeros( (Ktrain,Nopt) ) #Creating Empty Containers for the generated Payoffs\n",
    "c = 0.1\n",
    "for i in range(Ktrain):\n",
    "    if (i/Ktrain >= c):\n",
    "        c = c + 0.1\n",
    "        print(i/Ktrain*100,'% ... ',end='\\r')\n",
    "    #Creating the model parameters using random functions\n",
    "    sigma = np.maximum(0,np.random.normal(0.2,0.05,1))\n",
    "    kappa = np.random.normal(4,0,1)\n",
    "    thetha = np.random.normal(0,0,1)\n",
    "    xi = np.random.normal(0.2,0,1) #Volatility of Volatility\n",
    "    rho = np.random.normal(-0.5,0,1)\n",
    "    if assumption == \"Black-S\":\n",
    "        S[i,:] = path(S0,sigma,N,T,R)[N,:]  # We store only the final values\n",
    "    elif assumption == \"Heston\":\n",
    "        S[i,:] = path2(S0,sigma,kappa,thetha,xi,rho,N,T,R)[N,:]\n",
    "    L = f(S[i,:])\n",
    "    Lmean = np.zeros( (Nopt,) )\n",
    "    for j in range(Nopt):\n",
    "        Lmean[j] = np.mean(L[j]) #Monte Carlo aggregation\n",
    "    F[i,:] = Lmean\n",
    "    P[i] = sigma\n",
    "print(\"Done.\\n\")"
   ]
  },
  {
   "cell_type": "markdown",
   "id": "679c5e65-743f-49de-90b1-f22cfef91c83",
   "metadata": {},
   "source": [
    "#### 3. Training Part"
   ]
  },
  {
   "cell_type": "code",
   "execution_count": 7,
   "id": "a5b63cb1-aa91-4f1b-aacc-aa2215959aa2",
   "metadata": {},
   "outputs": [],
   "source": [
    "## Building architecture\n",
    "depth = 5\n",
    "nodes = 64"
   ]
  },
  {
   "cell_type": "code",
   "execution_count": 8,
   "id": "c555a738-eb99-4ed0-967a-78f94198f8c0",
   "metadata": {},
   "outputs": [
    {
     "name": "stdout",
     "output_type": "stream",
     "text": [
      "WARNING:tensorflow:From C:\\Users\\Biju-\\AppData\\Local\\Programs\\Python\\Python311\\Lib\\site-packages\\keras\\src\\backend.py:1398: The name tf.executing_eagerly_outside_functions is deprecated. Please use tf.compat.v1.executing_eagerly_outside_functions instead.\n",
      "\n"
     ]
    }
   ],
   "source": [
    "#Creating the inputs and output schemes for the Machine Learning part\n",
    "out = Input(shape=(Nopt,))\n",
    "inputs = [out]\n",
    "for i in range(depth):\n",
    "     out = Dense(nodes, activation=activator, trainable=True)(out)\n",
    "outputs = Dense(1, activation=activator, trainable=True)(out)"
   ]
  },
  {
   "cell_type": "code",
   "execution_count": 9,
   "id": "82441610-09bd-4ea9-a70c-4ea36e3ae4cc",
   "metadata": {},
   "outputs": [
    {
     "name": "stdout",
     "output_type": "stream",
     "text": [
      "Model: \"model\"\n",
      "_________________________________________________________________\n",
      " Layer (type)                Output Shape              Param #   \n",
      "=================================================================\n",
      " input_1 (InputLayer)        [(None, 4)]               0         \n",
      "                                                                 \n",
      " dense (Dense)               (None, 64)                320       \n",
      "                                                                 \n",
      " dense_1 (Dense)             (None, 64)                4160      \n",
      "                                                                 \n",
      " dense_2 (Dense)             (None, 64)                4160      \n",
      "                                                                 \n",
      " dense_3 (Dense)             (None, 64)                4160      \n",
      "                                                                 \n",
      " dense_4 (Dense)             (None, 64)                4160      \n",
      "                                                                 \n",
      " dense_5 (Dense)             (None, 1)                 65        \n",
      "                                                                 \n",
      "=================================================================\n",
      "Total params: 17025 (66.50 KB)\n",
      "Trainable params: 17025 (66.50 KB)\n",
      "Non-trainable params: 0 (0.00 Byte)\n",
      "_________________________________________________________________\n"
     ]
    }
   ],
   "source": [
    "#Implementing the defined inputs and outputs\n",
    "model_par = Model(inputs=inputs, outputs=outputs)\n",
    "model_par.summary()"
   ]
  },
  {
   "cell_type": "code",
   "execution_count": 10,
   "id": "ac44cfc5-5e47-4276-bce4-3a95173e5c82",
   "metadata": {},
   "outputs": [
    {
     "name": "stdout",
     "output_type": "stream",
     "text": [
      "WARNING:tensorflow:From C:\\Users\\Biju-\\AppData\\Local\\Programs\\Python\\Python311\\Lib\\site-packages\\keras\\src\\optimizers\\__init__.py:309: The name tf.train.Optimizer is deprecated. Please use tf.compat.v1.train.Optimizer instead.\n",
      "\n",
      "Epoch 1/5\n",
      "WARNING:tensorflow:From C:\\Users\\Biju-\\AppData\\Local\\Programs\\Python\\Python311\\Lib\\site-packages\\keras\\src\\utils\\tf_utils.py:492: The name tf.ragged.RaggedTensorValue is deprecated. Please use tf.compat.v1.ragged.RaggedTensorValue instead.\n",
      "\n",
      "WARNING:tensorflow:From C:\\Users\\Biju-\\AppData\\Local\\Programs\\Python\\Python311\\Lib\\site-packages\\keras\\src\\engine\\base_layer_utils.py:384: The name tf.executing_eagerly_outside_functions is deprecated. Please use tf.compat.v1.executing_eagerly_outside_functions instead.\n",
      "\n",
      "200/200 [==============================] - 1s 1ms/step - loss: 0.0029 - r2_score: -0.1812\n",
      "Epoch 2/5\n",
      "200/200 [==============================] - 0s 1ms/step - loss: 0.0010 - r2_score: 0.5915\n",
      "Epoch 3/5\n",
      "200/200 [==============================] - 0s 1ms/step - loss: 0.0011 - r2_score: 0.5717\n",
      "Epoch 4/5\n",
      "200/200 [==============================] - 0s 1ms/step - loss: 0.0011 - r2_score: 0.5657\n",
      "Epoch 5/5\n",
      "200/200 [==============================] - 0s 1ms/step - loss: 0.0010 - r2_score: 0.5852\n"
     ]
    },
    {
     "data": {
      "text/plain": [
       "<keras.src.callbacks.History at 0x1bee29791d0>"
      ]
     },
     "execution_count": 10,
     "metadata": {},
     "output_type": "execute_result"
    }
   ],
   "source": [
    "#Training the model using the simulated training data\n",
    "model_par.compile(optimizer='adam',loss='mean_squared_error',metrics=[\"R2Score\"]) #adam\n",
    "model_par.fit(x=F,y=P, epochs=epochs,verbose=True,batch_size=100) \n",
    "#View Outputs to see MSE and R^2"
   ]
  },
  {
   "cell_type": "markdown",
   "id": "ed94bf2b-043c-43ba-8b0f-4c6bd100a9a2",
   "metadata": {},
   "source": [
    "#### 4. Test Data Generation "
   ]
  },
  {
   "cell_type": "code",
   "execution_count": 11,
   "id": "6721afc3-7681-4ec8-9f9c-4567d7e897bc",
   "metadata": {
    "scrolled": true
   },
   "outputs": [
    {
     "name": "stderr",
     "output_type": "stream",
     "text": [
      "C:\\Users\\Biju-\\AppData\\Local\\Temp\\ipykernel_20284\\1875620669.py:25: DeprecationWarning: Conversion of an array with ndim > 0 to a scalar is deprecated, and will error in future. Ensure you extract a single element from your array before performing this operation. (Deprecated NumPy 1.25.)\n",
      "  P[i] = sigma\n"
     ]
    }
   ],
   "source": [
    "# Creating Ktest sample paths from the model\n",
    "# Same process to before, just creating test data now.\n",
    "S = np.zeros( (Ktest,R) )\n",
    "P = np.zeros( (Ktest,) )\n",
    "F = np.zeros( (Ktest,Nopt) )\n",
    "for i in range(Ktest):\n",
    "    sigma = np.maximum(0,np.random.normal(0.2,0.05,1))\n",
    "    kappa = np.random.normal(4,0,1)\n",
    "    thetha = np.random.normal(0,0,1)\n",
    "    xi = np.random.normal(0.2,0,1) #Volatility of Volatility\n",
    "    rho = np.random.normal(-0.5,0,1)\n",
    "    if assumption == \"Black-S\":\n",
    "        S[i,:] = path(S0,sigma,N,T,R)[N,:]  ## We store only the final values\n",
    "    elif assumption == \"Heston\":\n",
    "        S[i,:] = path2(S0,sigma,kappa,thetha,xi,rho,N,T,R)[N,:]\n",
    "    #if i == 0:\n",
    "    #    print(N)\n",
    "    L = f(S[i,:])\n",
    "    Lmean = np.zeros( (Nopt,) )\n",
    "    for j in range(Nopt):\n",
    "        Lmean[j] = np.mean(L[j])\n",
    "        #if i == 0:\n",
    "        #    print(L[j])\n",
    "    F[i,:] = Lmean\n",
    "    P[i] = sigma"
   ]
  },
  {
   "cell_type": "markdown",
   "id": "0c747aa6-5ffb-4f5e-a10c-90adf7ca1f0a",
   "metadata": {},
   "source": [
    "#### Testing and Evaluation"
   ]
  },
  {
   "cell_type": "code",
   "execution_count": 12,
   "id": "4784bfdf-8c09-40fb-a8ee-7d88c1c02873",
   "metadata": {},
   "outputs": [
    {
     "name": "stdout",
     "output_type": "stream",
     "text": [
      "157/157 [==============================] - 0s 711us/step\n"
     ]
    }
   ],
   "source": [
    "#Predict the variances using the test data\n",
    "P_predict = np.squeeze(model_par.predict(F))"
   ]
  },
  {
   "cell_type": "code",
   "execution_count": 13,
   "id": "fd35a945-dc7e-4670-9512-ec4e742d89b4",
   "metadata": {},
   "outputs": [
    {
     "data": {
      "text/plain": [
       "array([0.19900334, 0.15619804, 0.22989552, ..., 0.15278815, 0.21454625,\n",
       "       0.21779172], dtype=float32)"
      ]
     },
     "execution_count": 13,
     "metadata": {},
     "output_type": "execute_result"
    }
   ],
   "source": [
    "P_predict"
   ]
  },
  {
   "cell_type": "code",
   "execution_count": 14,
   "id": "c27ce70e-9b37-4a54-876c-a436aa4e8c02",
   "metadata": {},
   "outputs": [
    {
     "name": "stdout",
     "output_type": "stream",
     "text": [
      "[Below] Scatter Plot of (True/Prediction) pairs\n",
      "[Orange] The Diagonal\n"
     ]
    },
    {
     "data": {
      "image/png": "[encoded data removed]",
      "text/plain": [
       "<Figure size 640x480 with 1 Axes>"
      ]
     },
     "metadata": {},
     "output_type": "display_data"
    }
   ],
   "source": [
    "#Plotting the predicted data against the real data\n",
    "xaxis = np.linspace(1,Ktest,Ktest)\n",
    "print(\"[Below] Scatter Plot of (True/Prediction) pairs\\n[Orange] The Diagonal\")\n",
    "plt.plot(P,P_predict,'o',P,P)\n",
    "plt.show()"
   ]
  },
  {
   "cell_type": "code",
   "execution_count": 15,
   "id": "53e5cfe8-ca3f-4aee-b35d-2dfe4b2b3932",
   "metadata": {},
   "outputs": [],
   "source": [
    "P_diff = P_predict - P"
   ]
  },
  {
   "cell_type": "code",
   "execution_count": 16,
   "id": "91821a83-9cd1-4b04-ab31-e94e27dc5fb5",
   "metadata": {},
   "outputs": [
    {
     "data": {
      "image/png": "[encoded data removed]",
      "text/plain": [
       "<Figure size 640x480 with 1 Axes>"
      ]
     },
     "metadata": {},
     "output_type": "display_data"
    }
   ],
   "source": [
    "#Plotting the differences between real data and predicted data\n",
    "plt.hist(P_diff)\n",
    "plt.show()"
   ]
  },
  {
   "cell_type": "code",
   "execution_count": 17,
   "id": "fc3e9686-d6ef-4e72-b2b6-09e34911206c",
   "metadata": {},
   "outputs": [
    {
     "name": "stdout",
     "output_type": "stream",
     "text": [
      "Error is on average -5.1 % from the truth with a standard error of: 0.23 %.\n"
     ]
    }
   ],
   "source": [
    "#Creating metrics to judge the deviances\n",
    "relmean = np.mean( P_diff/P )\n",
    "relvar = np.sqrt( np.var( P_diff/P )/Ktest )\n",
    "print(\"Error is on average\",round(relmean*100,ndigits=2),\"% from the truth with a standard error of:\",round(relvar*100,ndigits=2),\"%.\")"
   ]
  }
 ],
 "metadata": {
  "kernelspec": {
   "display_name": "Python 3 (ipykernel)",
   "language": "python",
   "name": "python3"
  },
  "language_info": {
   "codemirror_mode": {
    "name": "ipython",
    "version": 3
   },
   "file_extension": ".py",
   "mimetype": "text/x-python",
   "name": "python",
   "nbconvert_exporter": "python",
   "pygments_lexer": "ipython3",
   "version": "3.11.6"
  }
 },
 "nbformat": 4,
 "nbformat_minor": 5
}
